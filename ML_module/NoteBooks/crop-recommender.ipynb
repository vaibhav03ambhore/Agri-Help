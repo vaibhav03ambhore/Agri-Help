{
 "cells": [
  {
   "cell_type": "code",
   "execution_count": 1,
   "id": "7e4b6ff4",
   "metadata": {
    "_cell_guid": "b1076dfc-b9ad-4769-8c92-a6c4dae69d19",
    "_uuid": "8f2839f25d086af736a60e9eeb907d3b93b6e0e5",
    "execution": {
     "iopub.execute_input": "2025-02-17T09:06:33.894948Z",
     "iopub.status.busy": "2025-02-17T09:06:33.894390Z",
     "iopub.status.idle": "2025-02-17T09:06:37.520397Z",
     "shell.execute_reply": "2025-02-17T09:06:37.518488Z"
    },
    "papermill": {
     "duration": 3.636946,
     "end_time": "2025-02-17T09:06:37.523378",
     "exception": false,
     "start_time": "2025-02-17T09:06:33.886432",
     "status": "completed"
    },
    "tags": []
   },
   "outputs": [],
   "source": [
    "import pandas as pd\n",
    "import numpy as np\n",
    "import matplotlib.pyplot as plt\n",
    "import seaborn as sns\n",
    "from sklearn.model_selection import train_test_split\n",
    "from sklearn.ensemble import RandomForestClassifier\n",
    "from sklearn.preprocessing import StandardScaler, LabelEncoder\n",
    "from sklearn.impute import SimpleImputer\n",
    "from sklearn.feature_selection import SelectKBest, f_classif\n",
    "from sklearn.metrics import accuracy_score, classification_report, confusion_matrix"
   ]
  },
  {
   "cell_type": "code",
   "execution_count": 2,
   "id": "bd1a5a04",
   "metadata": {
    "execution": {
     "iopub.execute_input": "2025-02-17T09:06:37.535142Z",
     "iopub.status.busy": "2025-02-17T09:06:37.534150Z",
     "iopub.status.idle": "2025-02-17T09:06:37.600204Z",
     "shell.execute_reply": "2025-02-17T09:06:37.599073Z"
    },
    "papermill": {
     "duration": 0.07329,
     "end_time": "2025-02-17T09:06:37.601950",
     "exception": false,
     "start_time": "2025-02-17T09:06:37.528660",
     "status": "completed"
    },
    "tags": []
   },
   "outputs": [
    {
     "data": {
      "text/html": [
       "<div>\n",
       "<style scoped>\n",
       "    .dataframe tbody tr th:only-of-type {\n",
       "        vertical-align: middle;\n",
       "    }\n",
       "\n",
       "    .dataframe tbody tr th {\n",
       "        vertical-align: top;\n",
       "    }\n",
       "\n",
       "    .dataframe thead th {\n",
       "        text-align: right;\n",
       "    }\n",
       "</style>\n",
       "<table border=\"1\" class=\"dataframe\">\n",
       "  <thead>\n",
       "    <tr style=\"text-align: right;\">\n",
       "      <th></th>\n",
       "      <th>Soil_color</th>\n",
       "      <th>Nitrogen</th>\n",
       "      <th>Phosphorus</th>\n",
       "      <th>Potassium</th>\n",
       "      <th>pH</th>\n",
       "      <th>Rainfall</th>\n",
       "      <th>Temperature</th>\n",
       "      <th>Crop</th>\n",
       "      <th>Fertilizer</th>\n",
       "    </tr>\n",
       "  </thead>\n",
       "  <tbody>\n",
       "    <tr>\n",
       "      <th>0</th>\n",
       "      <td>Black</td>\n",
       "      <td>75.0</td>\n",
       "      <td>50.0</td>\n",
       "      <td>100.0</td>\n",
       "      <td>6.5</td>\n",
       "      <td>1000.0</td>\n",
       "      <td>20.0</td>\n",
       "      <td>Sugarcane</td>\n",
       "      <td>Urea</td>\n",
       "    </tr>\n",
       "    <tr>\n",
       "      <th>1</th>\n",
       "      <td>Black</td>\n",
       "      <td>80.0</td>\n",
       "      <td>50.0</td>\n",
       "      <td>100.0</td>\n",
       "      <td>6.5</td>\n",
       "      <td>1000.0</td>\n",
       "      <td>20.0</td>\n",
       "      <td>Sugarcane</td>\n",
       "      <td>Urea</td>\n",
       "    </tr>\n",
       "    <tr>\n",
       "      <th>2</th>\n",
       "      <td>Black</td>\n",
       "      <td>85.0</td>\n",
       "      <td>50.0</td>\n",
       "      <td>100.0</td>\n",
       "      <td>6.5</td>\n",
       "      <td>1000.0</td>\n",
       "      <td>20.0</td>\n",
       "      <td>Sugarcane</td>\n",
       "      <td>Urea</td>\n",
       "    </tr>\n",
       "    <tr>\n",
       "      <th>3</th>\n",
       "      <td>Black</td>\n",
       "      <td>90.0</td>\n",
       "      <td>50.0</td>\n",
       "      <td>100.0</td>\n",
       "      <td>6.5</td>\n",
       "      <td>1000.0</td>\n",
       "      <td>20.0</td>\n",
       "      <td>Sugarcane</td>\n",
       "      <td>Urea</td>\n",
       "    </tr>\n",
       "    <tr>\n",
       "      <th>4</th>\n",
       "      <td>Black</td>\n",
       "      <td>95.0</td>\n",
       "      <td>50.0</td>\n",
       "      <td>100.0</td>\n",
       "      <td>6.5</td>\n",
       "      <td>1000.0</td>\n",
       "      <td>20.0</td>\n",
       "      <td>Sugarcane</td>\n",
       "      <td>Urea</td>\n",
       "    </tr>\n",
       "  </tbody>\n",
       "</table>\n",
       "</div>"
      ],
      "text/plain": [
       "  Soil_color  Nitrogen  Phosphorus  Potassium   pH  Rainfall  Temperature  \\\n",
       "0      Black      75.0        50.0      100.0  6.5    1000.0         20.0   \n",
       "1      Black      80.0        50.0      100.0  6.5    1000.0         20.0   \n",
       "2      Black      85.0        50.0      100.0  6.5    1000.0         20.0   \n",
       "3      Black      90.0        50.0      100.0  6.5    1000.0         20.0   \n",
       "4      Black      95.0        50.0      100.0  6.5    1000.0         20.0   \n",
       "\n",
       "        Crop Fertilizer  \n",
       "0  Sugarcane       Urea  \n",
       "1  Sugarcane       Urea  \n",
       "2  Sugarcane       Urea  \n",
       "3  Sugarcane       Urea  \n",
       "4  Sugarcane       Urea  "
      ]
     },
     "execution_count": 2,
     "metadata": {},
     "output_type": "execute_result"
    }
   ],
   "source": [
    "data = pd.read_csv('/kaggle/input/final-combined-dataset/filtered_dataset.csv')\n",
    "data.head()"
   ]
  },
  {
   "cell_type": "code",
   "execution_count": 3,
   "id": "17991176",
   "metadata": {
    "execution": {
     "iopub.execute_input": "2025-02-17T09:06:37.612661Z",
     "iopub.status.busy": "2025-02-17T09:06:37.612258Z",
     "iopub.status.idle": "2025-02-17T09:06:37.616152Z",
     "shell.execute_reply": "2025-02-17T09:06:37.615148Z"
    },
    "papermill": {
     "duration": 0.011078,
     "end_time": "2025-02-17T09:06:37.617928",
     "exception": false,
     "start_time": "2025-02-17T09:06:37.606850",
     "status": "completed"
    },
    "tags": []
   },
   "outputs": [],
   "source": [
    "# columns_to_remove = ['District_Name', 'Fertilizer', 'Link']\n",
    "# data = data.drop(columns=columns_to_remove)\n",
    "# data.isnull().sum()"
   ]
  },
  {
   "cell_type": "code",
   "execution_count": 4,
   "id": "aa80fef2",
   "metadata": {
    "execution": {
     "iopub.execute_input": "2025-02-17T09:06:37.628656Z",
     "iopub.status.busy": "2025-02-17T09:06:37.628192Z",
     "iopub.status.idle": "2025-02-17T09:06:37.656982Z",
     "shell.execute_reply": "2025-02-17T09:06:37.655069Z"
    },
    "papermill": {
     "duration": 0.036408,
     "end_time": "2025-02-17T09:06:37.659198",
     "exception": false,
     "start_time": "2025-02-17T09:06:37.622790",
     "status": "completed"
    },
    "tags": []
   },
   "outputs": [
    {
     "name": "stdout",
     "output_type": "stream",
     "text": [
      "<class 'pandas.core.frame.DataFrame'>\n",
      "RangeIndex: 5073 entries, 0 to 5072\n",
      "Data columns (total 9 columns):\n",
      " #   Column       Non-Null Count  Dtype  \n",
      "---  ------       --------------  -----  \n",
      " 0   Soil_color   5073 non-null   object \n",
      " 1   Nitrogen     5073 non-null   float64\n",
      " 2   Phosphorus   5073 non-null   float64\n",
      " 3   Potassium    5073 non-null   float64\n",
      " 4   pH           5073 non-null   float64\n",
      " 5   Rainfall     5073 non-null   float64\n",
      " 6   Temperature  5073 non-null   float64\n",
      " 7   Crop         5073 non-null   object \n",
      " 8   Fertilizer   5073 non-null   object \n",
      "dtypes: float64(6), object(3)\n",
      "memory usage: 356.8+ KB\n"
     ]
    }
   ],
   "source": [
    "# Information\n",
    "data.info()"
   ]
  },
  {
   "cell_type": "code",
   "execution_count": 5,
   "id": "67862b24",
   "metadata": {
    "execution": {
     "iopub.execute_input": "2025-02-17T09:06:37.670378Z",
     "iopub.status.busy": "2025-02-17T09:06:37.669946Z",
     "iopub.status.idle": "2025-02-17T09:06:37.674145Z",
     "shell.execute_reply": "2025-02-17T09:06:37.673053Z"
    },
    "papermill": {
     "duration": 0.01183,
     "end_time": "2025-02-17T09:06:37.675928",
     "exception": false,
     "start_time": "2025-02-17T09:06:37.664098",
     "status": "completed"
    },
    "tags": []
   },
   "outputs": [],
   "source": [
    "# # Exclude non-numeric columns\n",
    "# numeric_dataset = data.select_dtypes(include=['float64', 'int64'])\n",
    "\n",
    "# # Calculate correlation matrix\n",
    "# corr = numeric_dataset.corr()\n",
    "# print(corr)"
   ]
  },
  {
   "cell_type": "code",
   "execution_count": 6,
   "id": "6eda1eaf",
   "metadata": {
    "execution": {
     "iopub.execute_input": "2025-02-17T09:06:37.686533Z",
     "iopub.status.busy": "2025-02-17T09:06:37.686114Z",
     "iopub.status.idle": "2025-02-17T09:06:37.690210Z",
     "shell.execute_reply": "2025-02-17T09:06:37.689115Z"
    },
    "papermill": {
     "duration": 0.011282,
     "end_time": "2025-02-17T09:06:37.691806",
     "exception": false,
     "start_time": "2025-02-17T09:06:37.680524",
     "status": "completed"
    },
    "tags": []
   },
   "outputs": [],
   "source": [
    "# import seaborn as sns\n",
    "# sns.heatmap(corr,annot=True,cbar=True , cmap='coolwarm')"
   ]
  },
  {
   "cell_type": "code",
   "execution_count": 7,
   "id": "834808fb",
   "metadata": {
    "execution": {
     "iopub.execute_input": "2025-02-17T09:06:37.702075Z",
     "iopub.status.busy": "2025-02-17T09:06:37.701662Z",
     "iopub.status.idle": "2025-02-17T09:06:37.709099Z",
     "shell.execute_reply": "2025-02-17T09:06:37.707908Z"
    },
    "papermill": {
     "duration": 0.01465,
     "end_time": "2025-02-17T09:06:37.710993",
     "exception": false,
     "start_time": "2025-02-17T09:06:37.696343",
     "status": "completed"
    },
    "tags": []
   },
   "outputs": [
    {
     "data": {
      "text/plain": [
       "array(['Black', 'Red ', 'Medium Brown', 'Dark Brown', 'Red',\n",
       "       'Reddish Brown', 'Light Brown', 'Brown', 'Reddish'], dtype=object)"
      ]
     },
     "execution_count": 7,
     "metadata": {},
     "output_type": "execute_result"
    }
   ],
   "source": [
    "data['Soil_color'].unique()"
   ]
  },
  {
   "cell_type": "code",
   "execution_count": 8,
   "id": "02dde56d",
   "metadata": {
    "execution": {
     "iopub.execute_input": "2025-02-17T09:06:37.722297Z",
     "iopub.status.busy": "2025-02-17T09:06:37.721910Z",
     "iopub.status.idle": "2025-02-17T09:06:37.730020Z",
     "shell.execute_reply": "2025-02-17T09:06:37.728743Z"
    },
    "papermill": {
     "duration": 0.016037,
     "end_time": "2025-02-17T09:06:37.732039",
     "exception": false,
     "start_time": "2025-02-17T09:06:37.716002",
     "status": "completed"
    },
    "tags": []
   },
   "outputs": [],
   "source": [
    "# Define a mapping dictionary for Soil_Color\n",
    "soil_color_mapping = {\n",
    "    'Black': 1,\n",
    "    'Red ': 2,  # Notice the trailing space, keep it as it appears in the data\n",
    "    'Medium Brown': 3,\n",
    "    'Dark Brown': 4,\n",
    "    'Red': 5,\n",
    "    'Light Brown': 6,\n",
    "    'Reddish Brown': 7,\n",
    "    'Brown' : 8,\n",
    "    'Reddish': 9\n",
    "}\n",
    "\n",
    "# Map the Soil_Color values to integers\n",
    "data['Soil_color'] = data['Soil_color'].map(soil_color_mapping)"
   ]
  },
  {
   "cell_type": "code",
   "execution_count": 9,
   "id": "31f089ef",
   "metadata": {
    "execution": {
     "iopub.execute_input": "2025-02-17T09:06:37.743684Z",
     "iopub.status.busy": "2025-02-17T09:06:37.743247Z",
     "iopub.status.idle": "2025-02-17T09:06:37.761853Z",
     "shell.execute_reply": "2025-02-17T09:06:37.760778Z"
    },
    "papermill": {
     "duration": 0.026401,
     "end_time": "2025-02-17T09:06:37.763489",
     "exception": false,
     "start_time": "2025-02-17T09:06:37.737088",
     "status": "completed"
    },
    "tags": []
   },
   "outputs": [
    {
     "data": {
      "text/html": [
       "<div>\n",
       "<style scoped>\n",
       "    .dataframe tbody tr th:only-of-type {\n",
       "        vertical-align: middle;\n",
       "    }\n",
       "\n",
       "    .dataframe tbody tr th {\n",
       "        vertical-align: top;\n",
       "    }\n",
       "\n",
       "    .dataframe thead th {\n",
       "        text-align: right;\n",
       "    }\n",
       "</style>\n",
       "<table border=\"1\" class=\"dataframe\">\n",
       "  <thead>\n",
       "    <tr style=\"text-align: right;\">\n",
       "      <th></th>\n",
       "      <th>Soil_color</th>\n",
       "      <th>Nitrogen</th>\n",
       "      <th>Phosphorus</th>\n",
       "      <th>Potassium</th>\n",
       "      <th>pH</th>\n",
       "      <th>Rainfall</th>\n",
       "      <th>Temperature</th>\n",
       "      <th>Crop</th>\n",
       "      <th>Fertilizer</th>\n",
       "    </tr>\n",
       "  </thead>\n",
       "  <tbody>\n",
       "    <tr>\n",
       "      <th>0</th>\n",
       "      <td>1</td>\n",
       "      <td>75.0</td>\n",
       "      <td>50.0</td>\n",
       "      <td>100.0</td>\n",
       "      <td>6.5</td>\n",
       "      <td>1000.0</td>\n",
       "      <td>20.0</td>\n",
       "      <td>Sugarcane</td>\n",
       "      <td>Urea</td>\n",
       "    </tr>\n",
       "    <tr>\n",
       "      <th>1</th>\n",
       "      <td>1</td>\n",
       "      <td>80.0</td>\n",
       "      <td>50.0</td>\n",
       "      <td>100.0</td>\n",
       "      <td>6.5</td>\n",
       "      <td>1000.0</td>\n",
       "      <td>20.0</td>\n",
       "      <td>Sugarcane</td>\n",
       "      <td>Urea</td>\n",
       "    </tr>\n",
       "    <tr>\n",
       "      <th>2</th>\n",
       "      <td>1</td>\n",
       "      <td>85.0</td>\n",
       "      <td>50.0</td>\n",
       "      <td>100.0</td>\n",
       "      <td>6.5</td>\n",
       "      <td>1000.0</td>\n",
       "      <td>20.0</td>\n",
       "      <td>Sugarcane</td>\n",
       "      <td>Urea</td>\n",
       "    </tr>\n",
       "    <tr>\n",
       "      <th>3</th>\n",
       "      <td>1</td>\n",
       "      <td>90.0</td>\n",
       "      <td>50.0</td>\n",
       "      <td>100.0</td>\n",
       "      <td>6.5</td>\n",
       "      <td>1000.0</td>\n",
       "      <td>20.0</td>\n",
       "      <td>Sugarcane</td>\n",
       "      <td>Urea</td>\n",
       "    </tr>\n",
       "    <tr>\n",
       "      <th>4</th>\n",
       "      <td>1</td>\n",
       "      <td>95.0</td>\n",
       "      <td>50.0</td>\n",
       "      <td>100.0</td>\n",
       "      <td>6.5</td>\n",
       "      <td>1000.0</td>\n",
       "      <td>20.0</td>\n",
       "      <td>Sugarcane</td>\n",
       "      <td>Urea</td>\n",
       "    </tr>\n",
       "  </tbody>\n",
       "</table>\n",
       "</div>"
      ],
      "text/plain": [
       "   Soil_color  Nitrogen  Phosphorus  Potassium   pH  Rainfall  Temperature  \\\n",
       "0           1      75.0        50.0      100.0  6.5    1000.0         20.0   \n",
       "1           1      80.0        50.0      100.0  6.5    1000.0         20.0   \n",
       "2           1      85.0        50.0      100.0  6.5    1000.0         20.0   \n",
       "3           1      90.0        50.0      100.0  6.5    1000.0         20.0   \n",
       "4           1      95.0        50.0      100.0  6.5    1000.0         20.0   \n",
       "\n",
       "        Crop Fertilizer  \n",
       "0  Sugarcane       Urea  \n",
       "1  Sugarcane       Urea  \n",
       "2  Sugarcane       Urea  \n",
       "3  Sugarcane       Urea  \n",
       "4  Sugarcane       Urea  "
      ]
     },
     "execution_count": 9,
     "metadata": {},
     "output_type": "execute_result"
    }
   ],
   "source": [
    "data.head()"
   ]
  },
  {
   "cell_type": "code",
   "execution_count": 10,
   "id": "bb96bee7",
   "metadata": {
    "execution": {
     "iopub.execute_input": "2025-02-17T09:06:37.775246Z",
     "iopub.status.busy": "2025-02-17T09:06:37.774923Z",
     "iopub.status.idle": "2025-02-17T09:06:37.781560Z",
     "shell.execute_reply": "2025-02-17T09:06:37.780471Z"
    },
    "papermill": {
     "duration": 0.014496,
     "end_time": "2025-02-17T09:06:37.783318",
     "exception": false,
     "start_time": "2025-02-17T09:06:37.768822",
     "status": "completed"
    },
    "tags": []
   },
   "outputs": [
    {
     "data": {
      "text/plain": [
       "array(['Sugarcane', 'Jowar', 'Cotton', 'Rice', 'Wheat', 'Groundnut',\n",
       "       'Maize', 'Urad', 'Soybean', 'Turmeric', 'Grapes', 'Potato',\n",
       "       'Tomato'], dtype=object)"
      ]
     },
     "execution_count": 10,
     "metadata": {},
     "output_type": "execute_result"
    }
   ],
   "source": [
    "data['Crop'].unique()"
   ]
  },
  {
   "cell_type": "code",
   "execution_count": 11,
   "id": "e666f750",
   "metadata": {
    "execution": {
     "iopub.execute_input": "2025-02-17T09:06:37.795178Z",
     "iopub.status.busy": "2025-02-17T09:06:37.794846Z",
     "iopub.status.idle": "2025-02-17T09:06:37.811882Z",
     "shell.execute_reply": "2025-02-17T09:06:37.810703Z"
    },
    "papermill": {
     "duration": 0.0251,
     "end_time": "2025-02-17T09:06:37.813772",
     "exception": false,
     "start_time": "2025-02-17T09:06:37.788672",
     "status": "completed"
    },
    "tags": []
   },
   "outputs": [
    {
     "data": {
      "text/html": [
       "<div>\n",
       "<style scoped>\n",
       "    .dataframe tbody tr th:only-of-type {\n",
       "        vertical-align: middle;\n",
       "    }\n",
       "\n",
       "    .dataframe tbody tr th {\n",
       "        vertical-align: top;\n",
       "    }\n",
       "\n",
       "    .dataframe thead th {\n",
       "        text-align: right;\n",
       "    }\n",
       "</style>\n",
       "<table border=\"1\" class=\"dataframe\">\n",
       "  <thead>\n",
       "    <tr style=\"text-align: right;\">\n",
       "      <th></th>\n",
       "      <th>Soil_color</th>\n",
       "      <th>Nitrogen</th>\n",
       "      <th>Phosphorus</th>\n",
       "      <th>Potassium</th>\n",
       "      <th>pH</th>\n",
       "      <th>Rainfall</th>\n",
       "      <th>Temperature</th>\n",
       "      <th>Crop</th>\n",
       "      <th>Fertilizer</th>\n",
       "    </tr>\n",
       "  </thead>\n",
       "  <tbody>\n",
       "    <tr>\n",
       "      <th>0</th>\n",
       "      <td>1</td>\n",
       "      <td>75.0</td>\n",
       "      <td>50.0</td>\n",
       "      <td>100.0</td>\n",
       "      <td>6.5</td>\n",
       "      <td>1000.0</td>\n",
       "      <td>20.0</td>\n",
       "      <td>1</td>\n",
       "      <td>Urea</td>\n",
       "    </tr>\n",
       "    <tr>\n",
       "      <th>1</th>\n",
       "      <td>1</td>\n",
       "      <td>80.0</td>\n",
       "      <td>50.0</td>\n",
       "      <td>100.0</td>\n",
       "      <td>6.5</td>\n",
       "      <td>1000.0</td>\n",
       "      <td>20.0</td>\n",
       "      <td>1</td>\n",
       "      <td>Urea</td>\n",
       "    </tr>\n",
       "    <tr>\n",
       "      <th>2</th>\n",
       "      <td>1</td>\n",
       "      <td>85.0</td>\n",
       "      <td>50.0</td>\n",
       "      <td>100.0</td>\n",
       "      <td>6.5</td>\n",
       "      <td>1000.0</td>\n",
       "      <td>20.0</td>\n",
       "      <td>1</td>\n",
       "      <td>Urea</td>\n",
       "    </tr>\n",
       "    <tr>\n",
       "      <th>3</th>\n",
       "      <td>1</td>\n",
       "      <td>90.0</td>\n",
       "      <td>50.0</td>\n",
       "      <td>100.0</td>\n",
       "      <td>6.5</td>\n",
       "      <td>1000.0</td>\n",
       "      <td>20.0</td>\n",
       "      <td>1</td>\n",
       "      <td>Urea</td>\n",
       "    </tr>\n",
       "    <tr>\n",
       "      <th>4</th>\n",
       "      <td>1</td>\n",
       "      <td>95.0</td>\n",
       "      <td>50.0</td>\n",
       "      <td>100.0</td>\n",
       "      <td>6.5</td>\n",
       "      <td>1000.0</td>\n",
       "      <td>20.0</td>\n",
       "      <td>1</td>\n",
       "      <td>Urea</td>\n",
       "    </tr>\n",
       "  </tbody>\n",
       "</table>\n",
       "</div>"
      ],
      "text/plain": [
       "   Soil_color  Nitrogen  Phosphorus  Potassium   pH  Rainfall  Temperature  \\\n",
       "0           1      75.0        50.0      100.0  6.5    1000.0         20.0   \n",
       "1           1      80.0        50.0      100.0  6.5    1000.0         20.0   \n",
       "2           1      85.0        50.0      100.0  6.5    1000.0         20.0   \n",
       "3           1      90.0        50.0      100.0  6.5    1000.0         20.0   \n",
       "4           1      95.0        50.0      100.0  6.5    1000.0         20.0   \n",
       "\n",
       "   Crop Fertilizer  \n",
       "0     1       Urea  \n",
       "1     1       Urea  \n",
       "2     1       Urea  \n",
       "3     1       Urea  \n",
       "4     1       Urea  "
      ]
     },
     "execution_count": 11,
     "metadata": {},
     "output_type": "execute_result"
    }
   ],
   "source": [
    "# Define a mapping dictionary for Crop\n",
    "crop_mapping = {\n",
    "    'Sugarcane': 1,\n",
    "    'Jowar': 2,\n",
    "    'Cotton': 3,\n",
    "    'Rice': 4,\n",
    "    'Wheat': 5,\n",
    "    'Groundnut': 6,\n",
    "    'Maize': 7,\n",
    "    'Potato': 8,\n",
    "    'Urad': 9,\n",
    "    'Tomato': 10,\n",
    "    'Soybean': 11,\n",
    "    'Turmeric': 12,\n",
    "    'Grapes': 13,\n",
    "}\n",
    "\n",
    "# Map the Crop values to integers\n",
    "data['Crop'] = data['Crop'].map(crop_mapping)\n",
    "data.head()"
   ]
  },
  {
   "cell_type": "code",
   "execution_count": 12,
   "id": "73d871cd",
   "metadata": {
    "execution": {
     "iopub.execute_input": "2025-02-17T09:06:37.825873Z",
     "iopub.status.busy": "2025-02-17T09:06:37.825457Z",
     "iopub.status.idle": "2025-02-17T09:06:37.830232Z",
     "shell.execute_reply": "2025-02-17T09:06:37.829166Z"
    },
    "papermill": {
     "duration": 0.013075,
     "end_time": "2025-02-17T09:06:37.832159",
     "exception": false,
     "start_time": "2025-02-17T09:06:37.819084",
     "status": "completed"
    },
    "tags": []
   },
   "outputs": [],
   "source": [
    "from sklearn.model_selection import train_test_split\n",
    "from sklearn.ensemble import RandomForestClassifier\n",
    "from sklearn.metrics import accuracy_score, classification_report"
   ]
  },
  {
   "cell_type": "code",
   "execution_count": 13,
   "id": "d9bbdf9e",
   "metadata": {
    "execution": {
     "iopub.execute_input": "2025-02-17T09:06:37.844295Z",
     "iopub.status.busy": "2025-02-17T09:06:37.843983Z",
     "iopub.status.idle": "2025-02-17T09:06:37.853799Z",
     "shell.execute_reply": "2025-02-17T09:06:37.852697Z"
    },
    "papermill": {
     "duration": 0.018329,
     "end_time": "2025-02-17T09:06:37.856013",
     "exception": false,
     "start_time": "2025-02-17T09:06:37.837684",
     "status": "completed"
    },
    "tags": []
   },
   "outputs": [],
   "source": [
    "X = data[['Soil_color', 'Nitrogen', 'Phosphorus', 'Potassium', 'pH', 'Rainfall', 'Temperature']]\n",
    "y = data['Crop']\n",
    "\n",
    "# Split the dataset into training and testing sets\n",
    "X_train, X_test, y_train, y_test = train_test_split(X, y, test_size=0.2, random_state=42)"
   ]
  },
  {
   "cell_type": "code",
   "execution_count": 14,
   "id": "5062dee4",
   "metadata": {
    "execution": {
     "iopub.execute_input": "2025-02-17T09:06:37.867866Z",
     "iopub.status.busy": "2025-02-17T09:06:37.867508Z",
     "iopub.status.idle": "2025-02-17T09:06:37.875252Z",
     "shell.execute_reply": "2025-02-17T09:06:37.873827Z"
    },
    "papermill": {
     "duration": 0.01568,
     "end_time": "2025-02-17T09:06:37.877166",
     "exception": false,
     "start_time": "2025-02-17T09:06:37.861486",
     "status": "completed"
    },
    "tags": []
   },
   "outputs": [
    {
     "name": "stdout",
     "output_type": "stream",
     "text": [
      "Soil_color     0\n",
      "Nitrogen       0\n",
      "Phosphorus     0\n",
      "Potassium      0\n",
      "pH             0\n",
      "Rainfall       0\n",
      "Temperature    0\n",
      "dtype: int64\n"
     ]
    }
   ],
   "source": [
    "# Check for NaN values in the specified columns\n",
    "nan_counts = X.isna().sum()\n",
    "\n",
    "# Display the count of NaN values for each column\n",
    "print(nan_counts)"
   ]
  },
  {
   "cell_type": "code",
   "execution_count": 15,
   "id": "c1314a09",
   "metadata": {
    "execution": {
     "iopub.execute_input": "2025-02-17T09:06:37.890087Z",
     "iopub.status.busy": "2025-02-17T09:06:37.889626Z",
     "iopub.status.idle": "2025-02-17T09:06:38.283100Z",
     "shell.execute_reply": "2025-02-17T09:06:38.281747Z"
    },
    "papermill": {
     "duration": 0.40242,
     "end_time": "2025-02-17T09:06:38.285170",
     "exception": false,
     "start_time": "2025-02-17T09:06:37.882750",
     "status": "completed"
    },
    "tags": []
   },
   "outputs": [
    {
     "data": {
      "text/html": [
       "<style>#sk-container-id-1 {color: black;background-color: white;}#sk-container-id-1 pre{padding: 0;}#sk-container-id-1 div.sk-toggleable {background-color: white;}#sk-container-id-1 label.sk-toggleable__label {cursor: pointer;display: block;width: 100%;margin-bottom: 0;padding: 0.3em;box-sizing: border-box;text-align: center;}#sk-container-id-1 label.sk-toggleable__label-arrow:before {content: \"▸\";float: left;margin-right: 0.25em;color: #696969;}#sk-container-id-1 label.sk-toggleable__label-arrow:hover:before {color: black;}#sk-container-id-1 div.sk-estimator:hover label.sk-toggleable__label-arrow:before {color: black;}#sk-container-id-1 div.sk-toggleable__content {max-height: 0;max-width: 0;overflow: hidden;text-align: left;background-color: #f0f8ff;}#sk-container-id-1 div.sk-toggleable__content pre {margin: 0.2em;color: black;border-radius: 0.25em;background-color: #f0f8ff;}#sk-container-id-1 input.sk-toggleable__control:checked~div.sk-toggleable__content {max-height: 200px;max-width: 100%;overflow: auto;}#sk-container-id-1 input.sk-toggleable__control:checked~label.sk-toggleable__label-arrow:before {content: \"▾\";}#sk-container-id-1 div.sk-estimator input.sk-toggleable__control:checked~label.sk-toggleable__label {background-color: #d4ebff;}#sk-container-id-1 div.sk-label input.sk-toggleable__control:checked~label.sk-toggleable__label {background-color: #d4ebff;}#sk-container-id-1 input.sk-hidden--visually {border: 0;clip: rect(1px 1px 1px 1px);clip: rect(1px, 1px, 1px, 1px);height: 1px;margin: -1px;overflow: hidden;padding: 0;position: absolute;width: 1px;}#sk-container-id-1 div.sk-estimator {font-family: monospace;background-color: #f0f8ff;border: 1px dotted black;border-radius: 0.25em;box-sizing: border-box;margin-bottom: 0.5em;}#sk-container-id-1 div.sk-estimator:hover {background-color: #d4ebff;}#sk-container-id-1 div.sk-parallel-item::after {content: \"\";width: 100%;border-bottom: 1px solid gray;flex-grow: 1;}#sk-container-id-1 div.sk-label:hover label.sk-toggleable__label {background-color: #d4ebff;}#sk-container-id-1 div.sk-serial::before {content: \"\";position: absolute;border-left: 1px solid gray;box-sizing: border-box;top: 0;bottom: 0;left: 50%;z-index: 0;}#sk-container-id-1 div.sk-serial {display: flex;flex-direction: column;align-items: center;background-color: white;padding-right: 0.2em;padding-left: 0.2em;position: relative;}#sk-container-id-1 div.sk-item {position: relative;z-index: 1;}#sk-container-id-1 div.sk-parallel {display: flex;align-items: stretch;justify-content: center;background-color: white;position: relative;}#sk-container-id-1 div.sk-item::before, #sk-container-id-1 div.sk-parallel-item::before {content: \"\";position: absolute;border-left: 1px solid gray;box-sizing: border-box;top: 0;bottom: 0;left: 50%;z-index: -1;}#sk-container-id-1 div.sk-parallel-item {display: flex;flex-direction: column;z-index: 1;position: relative;background-color: white;}#sk-container-id-1 div.sk-parallel-item:first-child::after {align-self: flex-end;width: 50%;}#sk-container-id-1 div.sk-parallel-item:last-child::after {align-self: flex-start;width: 50%;}#sk-container-id-1 div.sk-parallel-item:only-child::after {width: 0;}#sk-container-id-1 div.sk-dashed-wrapped {border: 1px dashed gray;margin: 0 0.4em 0.5em 0.4em;box-sizing: border-box;padding-bottom: 0.4em;background-color: white;}#sk-container-id-1 div.sk-label label {font-family: monospace;font-weight: bold;display: inline-block;line-height: 1.2em;}#sk-container-id-1 div.sk-label-container {text-align: center;}#sk-container-id-1 div.sk-container {/* jupyter's `normalize.less` sets `[hidden] { display: none; }` but bootstrap.min.css set `[hidden] { display: none !important; }` so we also need the `!important` here to be able to override the default hidden behavior on the sphinx rendered scikit-learn.org. See: https://github.com/scikit-learn/scikit-learn/issues/21755 */display: inline-block !important;position: relative;}#sk-container-id-1 div.sk-text-repr-fallback {display: none;}</style><div id=\"sk-container-id-1\" class=\"sk-top-container\"><div class=\"sk-text-repr-fallback\"><pre>RandomForestClassifier(random_state=42)</pre><b>In a Jupyter environment, please rerun this cell to show the HTML representation or trust the notebook. <br />On GitHub, the HTML representation is unable to render, please try loading this page with nbviewer.org.</b></div><div class=\"sk-container\" hidden><div class=\"sk-item\"><div class=\"sk-estimator sk-toggleable\"><input class=\"sk-toggleable__control sk-hidden--visually\" id=\"sk-estimator-id-1\" type=\"checkbox\" checked><label for=\"sk-estimator-id-1\" class=\"sk-toggleable__label sk-toggleable__label-arrow\">RandomForestClassifier</label><div class=\"sk-toggleable__content\"><pre>RandomForestClassifier(random_state=42)</pre></div></div></div></div></div>"
      ],
      "text/plain": [
       "RandomForestClassifier(random_state=42)"
      ]
     },
     "execution_count": 15,
     "metadata": {},
     "output_type": "execute_result"
    }
   ],
   "source": [
    "# Create and fit the Random Forest Classifier\n",
    "rf_model = RandomForestClassifier(random_state=42)\n",
    "rf_model.fit(X_train, y_train)\n"
   ]
  },
  {
   "cell_type": "code",
   "execution_count": 16,
   "id": "82f5b79f",
   "metadata": {
    "execution": {
     "iopub.execute_input": "2025-02-17T09:06:38.298961Z",
     "iopub.status.busy": "2025-02-17T09:06:38.298548Z",
     "iopub.status.idle": "2025-02-17T09:06:38.401546Z",
     "shell.execute_reply": "2025-02-17T09:06:38.400512Z"
    },
    "papermill": {
     "duration": 0.112116,
     "end_time": "2025-02-17T09:06:38.403736",
     "exception": false,
     "start_time": "2025-02-17T09:06:38.291620",
     "status": "completed"
    },
    "tags": []
   },
   "outputs": [],
   "source": [
    "# Make predictions\n",
    "y_train_pred = rf_model.predict(X_train)\n",
    "y_test_pred = rf_model.predict(X_test)"
   ]
  },
  {
   "cell_type": "code",
   "execution_count": 17,
   "id": "219ed28a",
   "metadata": {
    "execution": {
     "iopub.execute_input": "2025-02-17T09:06:38.416123Z",
     "iopub.status.busy": "2025-02-17T09:06:38.415787Z",
     "iopub.status.idle": "2025-02-17T09:06:38.435793Z",
     "shell.execute_reply": "2025-02-17T09:06:38.434075Z"
    },
    "papermill": {
     "duration": 0.028494,
     "end_time": "2025-02-17T09:06:38.437895",
     "exception": false,
     "start_time": "2025-02-17T09:06:38.409401",
     "status": "completed"
    },
    "tags": []
   },
   "outputs": [
    {
     "name": "stdout",
     "output_type": "stream",
     "text": [
      "Training Accuracy: 1.0\n",
      "Testing Accuracy: 0.9960591133004926\n",
      "\n",
      "Classification Report for Testing Data:\n",
      "               precision    recall  f1-score   support\n",
      "\n",
      "           1       1.00      1.00      1.00       194\n",
      "           2       0.99      1.00      0.99        73\n",
      "           3       1.00      1.00      1.00       130\n",
      "           4       1.00      1.00      1.00        59\n",
      "           5       0.99      1.00      0.99       175\n",
      "           6       0.97      1.00      0.98        31\n",
      "           7       1.00      0.97      0.99        71\n",
      "           8       1.00      1.00      1.00        98\n",
      "           9       1.00      0.96      0.98        23\n",
      "          10       1.00      1.00      1.00       104\n",
      "          11       1.00      1.00      1.00        13\n",
      "          12       1.00      0.93      0.96        14\n",
      "          13       1.00      1.00      1.00        30\n",
      "\n",
      "    accuracy                           1.00      1015\n",
      "   macro avg       1.00      0.99      0.99      1015\n",
      "weighted avg       1.00      1.00      1.00      1015\n",
      "\n"
     ]
    }
   ],
   "source": [
    "# Evaluate the model\n",
    "train_accuracy = accuracy_score(y_train, y_train_pred)\n",
    "test_accuracy = accuracy_score(y_test, y_test_pred)\n",
    "\n",
    "print(\"Training Accuracy:\", train_accuracy)\n",
    "print(\"Testing Accuracy:\", test_accuracy)\n",
    "\n",
    "print(\"\\nClassification Report for Testing Data:\\n\", classification_report(y_test, y_test_pred))\n"
   ]
  },
  {
   "cell_type": "code",
   "execution_count": 18,
   "id": "69c2fbdf",
   "metadata": {
    "execution": {
     "iopub.execute_input": "2025-02-17T09:06:38.450405Z",
     "iopub.status.busy": "2025-02-17T09:06:38.449984Z",
     "iopub.status.idle": "2025-02-17T09:06:38.478081Z",
     "shell.execute_reply": "2025-02-17T09:06:38.476464Z"
    },
    "papermill": {
     "duration": 0.03639,
     "end_time": "2025-02-17T09:06:38.479986",
     "exception": false,
     "start_time": "2025-02-17T09:06:38.443596",
     "status": "completed"
    },
    "tags": []
   },
   "outputs": [
    {
     "name": "stdout",
     "output_type": "stream",
     "text": [
      "Model saved successfully!\n"
     ]
    }
   ],
   "source": [
    "import pickle\n",
    "# Save the trained model to a file using pickle\n",
    "with open('rf_model.pkl', 'wb') as model_file:\n",
    "    pickle.dump(rf_model, model_file)\n",
    "\n",
    "print(\"Model saved successfully!\")"
   ]
  },
  {
   "cell_type": "code",
   "execution_count": null,
   "id": "2cd5faba",
   "metadata": {
    "papermill": {
     "duration": 0.005101,
     "end_time": "2025-02-17T09:06:38.491026",
     "exception": false,
     "start_time": "2025-02-17T09:06:38.485925",
     "status": "completed"
    },
    "tags": []
   },
   "outputs": [],
   "source": []
  }
 ],
 "metadata": {
  "kaggle": {
   "accelerator": "none",
   "dataSources": [
    {
     "datasetId": 3431577,
     "sourceId": 5987682,
     "sourceType": "datasetVersion"
    },
    {
     "datasetId": 6682449,
     "sourceId": 10771631,
     "sourceType": "datasetVersion"
    }
   ],
   "dockerImageVersionId": 30839,
   "isGpuEnabled": false,
   "isInternetEnabled": true,
   "language": "python",
   "sourceType": "notebook"
  },
  "kernelspec": {
   "display_name": "Python 3",
   "language": "python",
   "name": "python3"
  },
  "language_info": {
   "codemirror_mode": {
    "name": "ipython",
    "version": 3
   },
   "file_extension": ".py",
   "mimetype": "text/x-python",
   "name": "python",
   "nbconvert_exporter": "python",
   "pygments_lexer": "ipython3",
   "version": "3.10.12"
  },
  "papermill": {
   "default_parameters": {},
   "duration": 8.775275,
   "end_time": "2025-02-17T09:06:39.519301",
   "environment_variables": {},
   "exception": null,
   "input_path": "__notebook__.ipynb",
   "output_path": "__notebook__.ipynb",
   "parameters": {},
   "start_time": "2025-02-17T09:06:30.744026",
   "version": "2.6.0"
  }
 },
 "nbformat": 4,
 "nbformat_minor": 5
}
