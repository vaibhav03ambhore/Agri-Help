{
 "cells": [
  {
   "cell_type": "code",
   "execution_count": 1,
   "id": "c2593113",
   "metadata": {
    "execution": {
     "iopub.execute_input": "2025-02-24T05:57:28.444214Z",
     "iopub.status.busy": "2025-02-24T05:57:28.443836Z",
     "iopub.status.idle": "2025-02-24T05:57:30.882779Z",
     "shell.execute_reply": "2025-02-24T05:57:30.881832Z"
    },
    "papermill": {
     "duration": 2.448209,
     "end_time": "2025-02-24T05:57:30.885548",
     "exception": false,
     "start_time": "2025-02-24T05:57:28.437339",
     "status": "completed"
    },
    "tags": []
   },
   "outputs": [],
   "source": [
    "# Import Python Libraries\n",
    "import pandas as pd\n",
    "from sklearn.model_selection import train_test_split\n",
    "from sklearn.ensemble import RandomForestClassifier\n",
    "from sklearn.preprocessing import OneHotEncoder\n",
    "from sklearn.metrics import classification_report\n",
    "from sklearn.compose import ColumnTransformer\n",
    "\n",
    "# Load the dataset\n",
    "filtered_dataset = pd.read_csv('/kaggle/input/maharashtra-fertilizer-new-data-set/filtered_dataset.csv')\n",
    "\n",
    "# List of fertilizers (classes) to remove\n",
    "classes_to_remove = [\n",
    "    'Potassium Nitrate', 'Ammonium Nitrate', 'Ammonium Sulphate', \n",
    "    'Calcium Ammonium Nitrate', 'Ammonium Chloride', 'Superphosphate', 'White Potash'\n",
    "]\n",
    "\n",
    "# Filter out the rows where Fertilizer column matches any of the classes to remove\n",
    "filtered_dataset = filtered_dataset[~filtered_dataset['Fertilizer'].isin(classes_to_remove)]\n",
    "\n",
    "# Define X (features) and y (target)\n",
    "y = filtered_dataset['Fertilizer']\n",
    "X = filtered_dataset.drop('Fertilizer', axis=1)"
   ]
  },
  {
   "cell_type": "code",
   "execution_count": 2,
   "id": "e975d2f6",
   "metadata": {
    "execution": {
     "iopub.execute_input": "2025-02-24T05:57:30.896079Z",
     "iopub.status.busy": "2025-02-24T05:57:30.895691Z",
     "iopub.status.idle": "2025-02-24T05:57:30.910663Z",
     "shell.execute_reply": "2025-02-24T05:57:30.909339Z"
    },
    "papermill": {
     "duration": 0.022918,
     "end_time": "2025-02-24T05:57:30.913096",
     "exception": false,
     "start_time": "2025-02-24T05:57:30.890178",
     "status": "completed"
    },
    "tags": []
   },
   "outputs": [
    {
     "name": "stdout",
     "output_type": "stream",
     "text": [
      "Number of unique fertilizers: 15\n",
      "Unique Fertilizer Names:\n",
      "Urea\n",
      "DAP\n",
      "MOP\n",
      "10:26:26 NPK\n",
      "SSP\n",
      "Magnesium Sulphate\n",
      "13:32:26 NPK\n",
      "12:32:16 NPK\n",
      "50:26:26 NPK\n",
      "19:19:19 NPK\n",
      "Chilated Micronutrient\n",
      "20:20:20 NPK\n",
      "Ferrous Sulphate\n",
      "10:10:10 NPK\n",
      "Hydrated Lime\n",
      "Number of unique crops: 13\n",
      "Number of records per crop:\n",
      "Sugarcane    1010\n",
      "Wheat         859\n",
      "Cotton        650\n",
      "Jowar         394\n",
      "Maize         350\n",
      "Tomato        321\n",
      "Rice          309\n",
      "Groundnut     177\n",
      "Grapes        125\n",
      "Urad           99\n",
      "Potato         70\n",
      "Soybean        45\n",
      "Turmeric       36\n",
      "Name: Crop, dtype: int64\n",
      "Number of records per fertilizer:\n",
      "Urea                      1294\n",
      "DAP                        594\n",
      "19:19:19 NPK               593\n",
      "MOP                        472\n",
      "SSP                        351\n",
      "Magnesium Sulphate         320\n",
      "10:26:26 NPK               156\n",
      "50:26:26 NPK               124\n",
      "20:20:20 NPK               118\n",
      "Chilated Micronutrient     108\n",
      "12:32:16 NPK               106\n",
      "Ferrous Sulphate            68\n",
      "13:32:26 NPK                66\n",
      "10:10:10 NPK                50\n",
      "Hydrated Lime               25\n",
      "Name: Fertilizer, dtype: int64\n"
     ]
    }
   ],
   "source": [
    "# Display the number of unique fertilizers\n",
    "unique_fertilizers = filtered_dataset['Fertilizer'].nunique()\n",
    "print(f\"Number of unique fertilizers: {unique_fertilizers}\")\n",
    "\n",
    "# Print unique fertilizer names\n",
    "unique_fertilizers = filtered_dataset['Fertilizer'].unique()\n",
    "print(\"Unique Fertilizer Names:\")\n",
    "for fertilizer in unique_fertilizers:\n",
    "    print(fertilizer)\n",
    "\n",
    "# Display the number of unique crops\n",
    "unique_crops = filtered_dataset['Crop'].nunique()\n",
    "print(f\"Number of unique crops: {unique_crops}\")\n",
    "\n",
    "# Display the number of records per crop\n",
    "records_per_crop = filtered_dataset['Crop'].value_counts()\n",
    "records_per_fertilizer = filtered_dataset['Fertilizer'].value_counts()\n",
    "print(\"Number of records per crop:\")\n",
    "print(records_per_crop)\n",
    "\n",
    "print(\"Number of records per fertilizer:\")\n",
    "print(records_per_fertilizer)"
   ]
  },
  {
   "cell_type": "code",
   "execution_count": 3,
   "id": "cd42220a",
   "metadata": {
    "execution": {
     "iopub.execute_input": "2025-02-24T05:57:30.923049Z",
     "iopub.status.busy": "2025-02-24T05:57:30.922656Z",
     "iopub.status.idle": "2025-02-24T05:57:30.952613Z",
     "shell.execute_reply": "2025-02-24T05:57:30.951516Z"
    },
    "papermill": {
     "duration": 0.037576,
     "end_time": "2025-02-24T05:57:30.955000",
     "exception": false,
     "start_time": "2025-02-24T05:57:30.917424",
     "status": "completed"
    },
    "tags": []
   },
   "outputs": [
    {
     "data": {
      "text/html": [
       "<div>\n",
       "<style scoped>\n",
       "    .dataframe tbody tr th:only-of-type {\n",
       "        vertical-align: middle;\n",
       "    }\n",
       "\n",
       "    .dataframe tbody tr th {\n",
       "        vertical-align: top;\n",
       "    }\n",
       "\n",
       "    .dataframe thead th {\n",
       "        text-align: right;\n",
       "    }\n",
       "</style>\n",
       "<table border=\"1\" class=\"dataframe\">\n",
       "  <thead>\n",
       "    <tr style=\"text-align: right;\">\n",
       "      <th></th>\n",
       "      <th>Soil_color</th>\n",
       "      <th>Nitrogen</th>\n",
       "      <th>Phosphorus</th>\n",
       "      <th>Potassium</th>\n",
       "      <th>pH</th>\n",
       "      <th>Rainfall</th>\n",
       "      <th>Temperature</th>\n",
       "      <th>Crop</th>\n",
       "      <th>Fertilizer</th>\n",
       "    </tr>\n",
       "  </thead>\n",
       "  <tbody>\n",
       "    <tr>\n",
       "      <th>0</th>\n",
       "      <td>Black</td>\n",
       "      <td>75.000000</td>\n",
       "      <td>50.000000</td>\n",
       "      <td>100.000000</td>\n",
       "      <td>6.500000</td>\n",
       "      <td>1000.000000</td>\n",
       "      <td>20.000000</td>\n",
       "      <td>Sugarcane</td>\n",
       "      <td>Urea</td>\n",
       "    </tr>\n",
       "    <tr>\n",
       "      <th>1</th>\n",
       "      <td>Black</td>\n",
       "      <td>80.000000</td>\n",
       "      <td>50.000000</td>\n",
       "      <td>100.000000</td>\n",
       "      <td>6.500000</td>\n",
       "      <td>1000.000000</td>\n",
       "      <td>20.000000</td>\n",
       "      <td>Sugarcane</td>\n",
       "      <td>Urea</td>\n",
       "    </tr>\n",
       "    <tr>\n",
       "      <th>2</th>\n",
       "      <td>Black</td>\n",
       "      <td>85.000000</td>\n",
       "      <td>50.000000</td>\n",
       "      <td>100.000000</td>\n",
       "      <td>6.500000</td>\n",
       "      <td>1000.000000</td>\n",
       "      <td>20.000000</td>\n",
       "      <td>Sugarcane</td>\n",
       "      <td>Urea</td>\n",
       "    </tr>\n",
       "    <tr>\n",
       "      <th>3</th>\n",
       "      <td>Black</td>\n",
       "      <td>90.000000</td>\n",
       "      <td>50.000000</td>\n",
       "      <td>100.000000</td>\n",
       "      <td>6.500000</td>\n",
       "      <td>1000.000000</td>\n",
       "      <td>20.000000</td>\n",
       "      <td>Sugarcane</td>\n",
       "      <td>Urea</td>\n",
       "    </tr>\n",
       "    <tr>\n",
       "      <th>4</th>\n",
       "      <td>Black</td>\n",
       "      <td>95.000000</td>\n",
       "      <td>50.000000</td>\n",
       "      <td>100.000000</td>\n",
       "      <td>6.500000</td>\n",
       "      <td>1000.000000</td>\n",
       "      <td>20.000000</td>\n",
       "      <td>Sugarcane</td>\n",
       "      <td>Urea</td>\n",
       "    </tr>\n",
       "    <tr>\n",
       "      <th>...</th>\n",
       "      <td>...</td>\n",
       "      <td>...</td>\n",
       "      <td>...</td>\n",
       "      <td>...</td>\n",
       "      <td>...</td>\n",
       "      <td>...</td>\n",
       "      <td>...</td>\n",
       "      <td>...</td>\n",
       "      <td>...</td>\n",
       "    </tr>\n",
       "    <tr>\n",
       "      <th>5065</th>\n",
       "      <td>Brown</td>\n",
       "      <td>205.602221</td>\n",
       "      <td>216.767919</td>\n",
       "      <td>225.916889</td>\n",
       "      <td>5.644855</td>\n",
       "      <td>844.328067</td>\n",
       "      <td>24.478102</td>\n",
       "      <td>Tomato</td>\n",
       "      <td>20:20:20 NPK</td>\n",
       "    </tr>\n",
       "    <tr>\n",
       "      <th>5067</th>\n",
       "      <td>Dark Brown</td>\n",
       "      <td>241.135365</td>\n",
       "      <td>203.460871</td>\n",
       "      <td>210.360539</td>\n",
       "      <td>6.188576</td>\n",
       "      <td>702.622815</td>\n",
       "      <td>22.120115</td>\n",
       "      <td>Tomato</td>\n",
       "      <td>20:20:20 NPK</td>\n",
       "    </tr>\n",
       "    <tr>\n",
       "      <th>5070</th>\n",
       "      <td>Dark Brown</td>\n",
       "      <td>216.192043</td>\n",
       "      <td>249.685739</td>\n",
       "      <td>225.454121</td>\n",
       "      <td>6.524119</td>\n",
       "      <td>626.639875</td>\n",
       "      <td>22.100307</td>\n",
       "      <td>Tomato</td>\n",
       "      <td>19:19:19 NPK</td>\n",
       "    </tr>\n",
       "    <tr>\n",
       "      <th>5071</th>\n",
       "      <td>Dark Brown</td>\n",
       "      <td>205.059803</td>\n",
       "      <td>202.770239</td>\n",
       "      <td>218.023601</td>\n",
       "      <td>5.661101</td>\n",
       "      <td>866.264184</td>\n",
       "      <td>21.527625</td>\n",
       "      <td>Tomato</td>\n",
       "      <td>19:19:19 NPK</td>\n",
       "    </tr>\n",
       "    <tr>\n",
       "      <th>5072</th>\n",
       "      <td>Brown</td>\n",
       "      <td>200.421742</td>\n",
       "      <td>248.400490</td>\n",
       "      <td>202.098737</td>\n",
       "      <td>6.447058</td>\n",
       "      <td>850.661718</td>\n",
       "      <td>20.364924</td>\n",
       "      <td>Tomato</td>\n",
       "      <td>19:19:19 NPK</td>\n",
       "    </tr>\n",
       "  </tbody>\n",
       "</table>\n",
       "<p>4445 rows × 9 columns</p>\n",
       "</div>"
      ],
      "text/plain": [
       "      Soil_color    Nitrogen  Phosphorus   Potassium        pH     Rainfall  \\\n",
       "0          Black   75.000000   50.000000  100.000000  6.500000  1000.000000   \n",
       "1          Black   80.000000   50.000000  100.000000  6.500000  1000.000000   \n",
       "2          Black   85.000000   50.000000  100.000000  6.500000  1000.000000   \n",
       "3          Black   90.000000   50.000000  100.000000  6.500000  1000.000000   \n",
       "4          Black   95.000000   50.000000  100.000000  6.500000  1000.000000   \n",
       "...          ...         ...         ...         ...       ...          ...   \n",
       "5065       Brown  205.602221  216.767919  225.916889  5.644855   844.328067   \n",
       "5067  Dark Brown  241.135365  203.460871  210.360539  6.188576   702.622815   \n",
       "5070  Dark Brown  216.192043  249.685739  225.454121  6.524119   626.639875   \n",
       "5071  Dark Brown  205.059803  202.770239  218.023601  5.661101   866.264184   \n",
       "5072       Brown  200.421742  248.400490  202.098737  6.447058   850.661718   \n",
       "\n",
       "      Temperature       Crop    Fertilizer  \n",
       "0       20.000000  Sugarcane          Urea  \n",
       "1       20.000000  Sugarcane          Urea  \n",
       "2       20.000000  Sugarcane          Urea  \n",
       "3       20.000000  Sugarcane          Urea  \n",
       "4       20.000000  Sugarcane          Urea  \n",
       "...           ...        ...           ...  \n",
       "5065    24.478102     Tomato  20:20:20 NPK  \n",
       "5067    22.120115     Tomato  20:20:20 NPK  \n",
       "5070    22.100307     Tomato  19:19:19 NPK  \n",
       "5071    21.527625     Tomato  19:19:19 NPK  \n",
       "5072    20.364924     Tomato  19:19:19 NPK  \n",
       "\n",
       "[4445 rows x 9 columns]"
      ]
     },
     "execution_count": 3,
     "metadata": {},
     "output_type": "execute_result"
    }
   ],
   "source": [
    "filtered_dataset"
   ]
  },
  {
   "cell_type": "code",
   "execution_count": 4,
   "id": "92d88e17",
   "metadata": {
    "execution": {
     "iopub.execute_input": "2025-02-24T05:57:30.965316Z",
     "iopub.status.busy": "2025-02-24T05:57:30.965001Z",
     "iopub.status.idle": "2025-02-24T05:57:30.975661Z",
     "shell.execute_reply": "2025-02-24T05:57:30.974611Z"
    },
    "papermill": {
     "duration": 0.018405,
     "end_time": "2025-02-24T05:57:30.977838",
     "exception": false,
     "start_time": "2025-02-24T05:57:30.959433",
     "status": "completed"
    },
    "tags": []
   },
   "outputs": [
    {
     "data": {
      "text/plain": [
       "Soil_color     0\n",
       "Nitrogen       0\n",
       "Phosphorus     0\n",
       "Potassium      0\n",
       "pH             0\n",
       "Rainfall       0\n",
       "Temperature    0\n",
       "Crop           0\n",
       "Fertilizer     0\n",
       "dtype: int64"
      ]
     },
     "execution_count": 4,
     "metadata": {},
     "output_type": "execute_result"
    }
   ],
   "source": [
    "#Count Null values\n",
    "filtered_dataset.isnull().sum()"
   ]
  },
  {
   "cell_type": "code",
   "execution_count": 5,
   "id": "6baeaf0a",
   "metadata": {
    "execution": {
     "iopub.execute_input": "2025-02-24T05:57:30.988625Z",
     "iopub.status.busy": "2025-02-24T05:57:30.988227Z",
     "iopub.status.idle": "2025-02-24T05:57:30.995226Z",
     "shell.execute_reply": "2025-02-24T05:57:30.994133Z"
    },
    "papermill": {
     "duration": 0.014768,
     "end_time": "2025-02-24T05:57:30.997296",
     "exception": false,
     "start_time": "2025-02-24T05:57:30.982528",
     "status": "completed"
    },
    "tags": []
   },
   "outputs": [
    {
     "data": {
      "text/plain": [
       "(4445, 9)"
      ]
     },
     "execution_count": 5,
     "metadata": {},
     "output_type": "execute_result"
    }
   ],
   "source": [
    "#No. of Rows and Columns\n",
    "filtered_dataset.shape"
   ]
  },
  {
   "cell_type": "code",
   "execution_count": 6,
   "id": "86214028",
   "metadata": {
    "execution": {
     "iopub.execute_input": "2025-02-24T05:57:31.008019Z",
     "iopub.status.busy": "2025-02-24T05:57:31.007637Z",
     "iopub.status.idle": "2025-02-24T05:57:31.026340Z",
     "shell.execute_reply": "2025-02-24T05:57:31.025130Z"
    },
    "papermill": {
     "duration": 0.026659,
     "end_time": "2025-02-24T05:57:31.028631",
     "exception": false,
     "start_time": "2025-02-24T05:57:31.001972",
     "status": "completed"
    },
    "tags": []
   },
   "outputs": [
    {
     "name": "stdout",
     "output_type": "stream",
     "text": [
      "<class 'pandas.core.frame.DataFrame'>\n",
      "Int64Index: 4445 entries, 0 to 5072\n",
      "Data columns (total 9 columns):\n",
      " #   Column       Non-Null Count  Dtype  \n",
      "---  ------       --------------  -----  \n",
      " 0   Soil_color   4445 non-null   object \n",
      " 1   Nitrogen     4445 non-null   float64\n",
      " 2   Phosphorus   4445 non-null   float64\n",
      " 3   Potassium    4445 non-null   float64\n",
      " 4   pH           4445 non-null   float64\n",
      " 5   Rainfall     4445 non-null   float64\n",
      " 6   Temperature  4445 non-null   float64\n",
      " 7   Crop         4445 non-null   object \n",
      " 8   Fertilizer   4445 non-null   object \n",
      "dtypes: float64(6), object(3)\n",
      "memory usage: 347.3+ KB\n"
     ]
    }
   ],
   "source": [
    "# Information\n",
    "filtered_dataset.info()"
   ]
  },
  {
   "cell_type": "code",
   "execution_count": 7,
   "id": "eda34b65",
   "metadata": {
    "execution": {
     "iopub.execute_input": "2025-02-24T05:57:31.041347Z",
     "iopub.status.busy": "2025-02-24T05:57:31.040646Z",
     "iopub.status.idle": "2025-02-24T05:57:31.053547Z",
     "shell.execute_reply": "2025-02-24T05:57:31.052578Z"
    },
    "papermill": {
     "duration": 0.020769,
     "end_time": "2025-02-24T05:57:31.055619",
     "exception": false,
     "start_time": "2025-02-24T05:57:31.034850",
     "status": "completed"
    },
    "tags": []
   },
   "outputs": [
    {
     "data": {
      "text/plain": [
       "0"
      ]
     },
     "execution_count": 7,
     "metadata": {},
     "output_type": "execute_result"
    }
   ],
   "source": [
    "#No. of Duplicates\n",
    "filtered_dataset.duplicated().sum()"
   ]
  },
  {
   "cell_type": "code",
   "execution_count": 8,
   "id": "02ef3c9a",
   "metadata": {
    "execution": {
     "iopub.execute_input": "2025-02-24T05:57:31.066740Z",
     "iopub.status.busy": "2025-02-24T05:57:31.066373Z",
     "iopub.status.idle": "2025-02-24T05:57:31.096679Z",
     "shell.execute_reply": "2025-02-24T05:57:31.095545Z"
    },
    "papermill": {
     "duration": 0.038692,
     "end_time": "2025-02-24T05:57:31.099126",
     "exception": false,
     "start_time": "2025-02-24T05:57:31.060434",
     "status": "completed"
    },
    "tags": []
   },
   "outputs": [
    {
     "data": {
      "text/html": [
       "<div>\n",
       "<style scoped>\n",
       "    .dataframe tbody tr th:only-of-type {\n",
       "        vertical-align: middle;\n",
       "    }\n",
       "\n",
       "    .dataframe tbody tr th {\n",
       "        vertical-align: top;\n",
       "    }\n",
       "\n",
       "    .dataframe thead th {\n",
       "        text-align: right;\n",
       "    }\n",
       "</style>\n",
       "<table border=\"1\" class=\"dataframe\">\n",
       "  <thead>\n",
       "    <tr style=\"text-align: right;\">\n",
       "      <th></th>\n",
       "      <th>Nitrogen</th>\n",
       "      <th>Phosphorus</th>\n",
       "      <th>Potassium</th>\n",
       "      <th>pH</th>\n",
       "      <th>Rainfall</th>\n",
       "      <th>Temperature</th>\n",
       "    </tr>\n",
       "  </thead>\n",
       "  <tbody>\n",
       "    <tr>\n",
       "      <th>count</th>\n",
       "      <td>4445.000000</td>\n",
       "      <td>4445.000000</td>\n",
       "      <td>4445.000000</td>\n",
       "      <td>4445.000000</td>\n",
       "      <td>4445.000000</td>\n",
       "      <td>4445.000000</td>\n",
       "    </tr>\n",
       "    <tr>\n",
       "      <th>mean</th>\n",
       "      <td>112.014499</td>\n",
       "      <td>68.722457</td>\n",
       "      <td>79.060552</td>\n",
       "      <td>6.700638</td>\n",
       "      <td>824.504443</td>\n",
       "      <td>25.456417</td>\n",
       "    </tr>\n",
       "    <tr>\n",
       "      <th>std</th>\n",
       "      <td>48.674286</td>\n",
       "      <td>46.326394</td>\n",
       "      <td>53.929184</td>\n",
       "      <td>0.634422</td>\n",
       "      <td>244.395370</td>\n",
       "      <td>5.780160</td>\n",
       "    </tr>\n",
       "    <tr>\n",
       "      <th>min</th>\n",
       "      <td>20.000000</td>\n",
       "      <td>15.000000</td>\n",
       "      <td>20.000000</td>\n",
       "      <td>5.201647</td>\n",
       "      <td>300.000000</td>\n",
       "      <td>10.000000</td>\n",
       "    </tr>\n",
       "    <tr>\n",
       "      <th>25%</th>\n",
       "      <td>80.000000</td>\n",
       "      <td>45.000000</td>\n",
       "      <td>45.000000</td>\n",
       "      <td>6.000000</td>\n",
       "      <td>600.000000</td>\n",
       "      <td>20.000000</td>\n",
       "    </tr>\n",
       "    <tr>\n",
       "      <th>50%</th>\n",
       "      <td>115.000000</td>\n",
       "      <td>60.000000</td>\n",
       "      <td>60.000000</td>\n",
       "      <td>6.500000</td>\n",
       "      <td>800.000000</td>\n",
       "      <td>25.000000</td>\n",
       "    </tr>\n",
       "    <tr>\n",
       "      <th>75%</th>\n",
       "      <td>135.000000</td>\n",
       "      <td>73.845867</td>\n",
       "      <td>110.000000</td>\n",
       "      <td>7.000000</td>\n",
       "      <td>1000.000000</td>\n",
       "      <td>30.000000</td>\n",
       "    </tr>\n",
       "    <tr>\n",
       "      <th>max</th>\n",
       "      <td>249.780140</td>\n",
       "      <td>249.789794</td>\n",
       "      <td>249.993622</td>\n",
       "      <td>8.500000</td>\n",
       "      <td>1700.000000</td>\n",
       "      <td>40.000000</td>\n",
       "    </tr>\n",
       "  </tbody>\n",
       "</table>\n",
       "</div>"
      ],
      "text/plain": [
       "          Nitrogen   Phosphorus    Potassium           pH     Rainfall  \\\n",
       "count  4445.000000  4445.000000  4445.000000  4445.000000  4445.000000   \n",
       "mean    112.014499    68.722457    79.060552     6.700638   824.504443   \n",
       "std      48.674286    46.326394    53.929184     0.634422   244.395370   \n",
       "min      20.000000    15.000000    20.000000     5.201647   300.000000   \n",
       "25%      80.000000    45.000000    45.000000     6.000000   600.000000   \n",
       "50%     115.000000    60.000000    60.000000     6.500000   800.000000   \n",
       "75%     135.000000    73.845867   110.000000     7.000000  1000.000000   \n",
       "max     249.780140   249.789794   249.993622     8.500000  1700.000000   \n",
       "\n",
       "       Temperature  \n",
       "count  4445.000000  \n",
       "mean     25.456417  \n",
       "std       5.780160  \n",
       "min      10.000000  \n",
       "25%      20.000000  \n",
       "50%      25.000000  \n",
       "75%      30.000000  \n",
       "max      40.000000  "
      ]
     },
     "execution_count": 8,
     "metadata": {},
     "output_type": "execute_result"
    }
   ],
   "source": [
    "#Describe the data\n",
    "filtered_dataset.describe()"
   ]
  },
  {
   "cell_type": "code",
   "execution_count": 9,
   "id": "5d124190",
   "metadata": {
    "execution": {
     "iopub.execute_input": "2025-02-24T05:57:31.111066Z",
     "iopub.status.busy": "2025-02-24T05:57:31.110659Z",
     "iopub.status.idle": "2025-02-24T05:57:31.122596Z",
     "shell.execute_reply": "2025-02-24T05:57:31.121184Z"
    },
    "papermill": {
     "duration": 0.020717,
     "end_time": "2025-02-24T05:57:31.125004",
     "exception": false,
     "start_time": "2025-02-24T05:57:31.104287",
     "status": "completed"
    },
    "tags": []
   },
   "outputs": [
    {
     "name": "stdout",
     "output_type": "stream",
     "text": [
      "Some crops have multiple fertilizers:\n",
      "Crop\n",
      "Cotton       4\n",
      "Grapes       3\n",
      "Groundnut    2\n",
      "Jowar        3\n",
      "Maize        3\n",
      "Rice         2\n",
      "Soybean      3\n",
      "Sugarcane    3\n",
      "Tomato       3\n",
      "Turmeric     2\n",
      "Urad         3\n",
      "Wheat        2\n",
      "Name: Fertilizer, dtype: int64\n"
     ]
    }
   ],
   "source": [
    "# Group by crop and check the number of unique fertilizers for each crop\n",
    "fertilizer_mapping = filtered_dataset.groupby('Crop')['Fertilizer'].nunique()\n",
    "\n",
    "# Display crops with more than one unique fertilizer\n",
    "crops_with_multiple_fertilizers = fertilizer_mapping[fertilizer_mapping > 1]\n",
    "\n",
    "# Output the result\n",
    "if crops_with_multiple_fertilizers.empty:\n",
    "    print(\"Each crop has exactly one fertilizer. No need for a separate fertilizer recommendation model.\")\n",
    "else:\n",
    "    print(\"Some crops have multiple fertilizers:\")\n",
    "    print(crops_with_multiple_fertilizers)\n"
   ]
  },
  {
   "cell_type": "markdown",
   "id": "724ba6e7",
   "metadata": {
    "papermill": {
     "duration": 0.005583,
     "end_time": "2025-02-24T05:57:31.135970",
     "exception": false,
     "start_time": "2025-02-24T05:57:31.130387",
     "status": "completed"
    },
    "tags": []
   },
   "source": [
    "#Fertilizer Implementation"
   ]
  },
  {
   "cell_type": "markdown",
   "id": "3227f4d6",
   "metadata": {
    "papermill": {
     "duration": 0.004911,
     "end_time": "2025-02-24T05:57:31.146188",
     "exception": false,
     "start_time": "2025-02-24T05:57:31.141277",
     "status": "completed"
    },
    "tags": []
   },
   "source": [
    "**#Fertilizer Implementation******"
   ]
  },
  {
   "cell_type": "code",
   "execution_count": 10,
   "id": "9a3ee345",
   "metadata": {
    "execution": {
     "iopub.execute_input": "2025-02-24T05:57:31.158080Z",
     "iopub.status.busy": "2025-02-24T05:57:31.157677Z",
     "iopub.status.idle": "2025-02-24T05:57:31.191418Z",
     "shell.execute_reply": "2025-02-24T05:57:31.190270Z"
    },
    "papermill": {
     "duration": 0.042588,
     "end_time": "2025-02-24T05:57:31.193912",
     "exception": false,
     "start_time": "2025-02-24T05:57:31.151324",
     "status": "completed"
    },
    "tags": []
   },
   "outputs": [
    {
     "name": "stderr",
     "output_type": "stream",
     "text": [
      "/opt/conda/lib/python3.10/site-packages/sklearn/preprocessing/_encoders.py:868: FutureWarning: `sparse` was renamed to `sparse_output` in version 1.2 and will be removed in 1.4. `sparse_output` is ignored unless you leave `sparse` to its default value.\n",
      "  warnings.warn(\n"
     ]
    }
   ],
   "source": [
    "# Train-test split (should be done before any preprocessing)\n",
    "X_train, X_test, y_train, y_test = train_test_split(X, y, test_size=0.2, random_state=42)\n",
    "\n",
    "# Identify categorical columns\n",
    "categorical_cols = ['Soil_color', 'Crop'] if 'Soil_color' in X.columns and 'Crop' in X.columns else []\n",
    "\n",
    "# Create preprocessing transformer\n",
    "if categorical_cols:\n",
    "    preprocessor = ColumnTransformer(\n",
    "        transformers=[\n",
    "            ('cat', OneHotEncoder(drop='first', sparse=False), categorical_cols)\n",
    "        ],\n",
    "        remainder='passthrough'  # keep numerical columns as-is\n",
    "    )\n",
    "    \n",
    "    # Apply preprocessing\n",
    "    X_train = preprocessor.fit_transform(X_train)\n",
    "    X_test = preprocessor.transform(X_test)\n",
    "    \n",
    "    # Get feature names\n",
    "    feature_names = preprocessor.get_feature_names_out()\n",
    "    X_train = pd.DataFrame(X_train, columns=feature_names)\n",
    "    X_test = pd.DataFrame(X_test, columns=feature_names)\n",
    "else:\n",
    "    print(\"Categorical columns not found - using raw features\")\n",
    "\n"
   ]
  },
  {
   "cell_type": "code",
   "execution_count": 11,
   "id": "198c7c22",
   "metadata": {
    "execution": {
     "iopub.execute_input": "2025-02-24T05:57:31.205685Z",
     "iopub.status.busy": "2025-02-24T05:57:31.205363Z",
     "iopub.status.idle": "2025-02-24T05:57:31.784064Z",
     "shell.execute_reply": "2025-02-24T05:57:31.782686Z"
    },
    "papermill": {
     "duration": 0.58744,
     "end_time": "2025-02-24T05:57:31.786524",
     "exception": false,
     "start_time": "2025-02-24T05:57:31.199084",
     "status": "completed"
    },
    "tags": []
   },
   "outputs": [
    {
     "data": {
      "text/html": [
       "<style>#sk-container-id-1 {color: black;background-color: white;}#sk-container-id-1 pre{padding: 0;}#sk-container-id-1 div.sk-toggleable {background-color: white;}#sk-container-id-1 label.sk-toggleable__label {cursor: pointer;display: block;width: 100%;margin-bottom: 0;padding: 0.3em;box-sizing: border-box;text-align: center;}#sk-container-id-1 label.sk-toggleable__label-arrow:before {content: \"▸\";float: left;margin-right: 0.25em;color: #696969;}#sk-container-id-1 label.sk-toggleable__label-arrow:hover:before {color: black;}#sk-container-id-1 div.sk-estimator:hover label.sk-toggleable__label-arrow:before {color: black;}#sk-container-id-1 div.sk-toggleable__content {max-height: 0;max-width: 0;overflow: hidden;text-align: left;background-color: #f0f8ff;}#sk-container-id-1 div.sk-toggleable__content pre {margin: 0.2em;color: black;border-radius: 0.25em;background-color: #f0f8ff;}#sk-container-id-1 input.sk-toggleable__control:checked~div.sk-toggleable__content {max-height: 200px;max-width: 100%;overflow: auto;}#sk-container-id-1 input.sk-toggleable__control:checked~label.sk-toggleable__label-arrow:before {content: \"▾\";}#sk-container-id-1 div.sk-estimator input.sk-toggleable__control:checked~label.sk-toggleable__label {background-color: #d4ebff;}#sk-container-id-1 div.sk-label input.sk-toggleable__control:checked~label.sk-toggleable__label {background-color: #d4ebff;}#sk-container-id-1 input.sk-hidden--visually {border: 0;clip: rect(1px 1px 1px 1px);clip: rect(1px, 1px, 1px, 1px);height: 1px;margin: -1px;overflow: hidden;padding: 0;position: absolute;width: 1px;}#sk-container-id-1 div.sk-estimator {font-family: monospace;background-color: #f0f8ff;border: 1px dotted black;border-radius: 0.25em;box-sizing: border-box;margin-bottom: 0.5em;}#sk-container-id-1 div.sk-estimator:hover {background-color: #d4ebff;}#sk-container-id-1 div.sk-parallel-item::after {content: \"\";width: 100%;border-bottom: 1px solid gray;flex-grow: 1;}#sk-container-id-1 div.sk-label:hover label.sk-toggleable__label {background-color: #d4ebff;}#sk-container-id-1 div.sk-serial::before {content: \"\";position: absolute;border-left: 1px solid gray;box-sizing: border-box;top: 0;bottom: 0;left: 50%;z-index: 0;}#sk-container-id-1 div.sk-serial {display: flex;flex-direction: column;align-items: center;background-color: white;padding-right: 0.2em;padding-left: 0.2em;position: relative;}#sk-container-id-1 div.sk-item {position: relative;z-index: 1;}#sk-container-id-1 div.sk-parallel {display: flex;align-items: stretch;justify-content: center;background-color: white;position: relative;}#sk-container-id-1 div.sk-item::before, #sk-container-id-1 div.sk-parallel-item::before {content: \"\";position: absolute;border-left: 1px solid gray;box-sizing: border-box;top: 0;bottom: 0;left: 50%;z-index: -1;}#sk-container-id-1 div.sk-parallel-item {display: flex;flex-direction: column;z-index: 1;position: relative;background-color: white;}#sk-container-id-1 div.sk-parallel-item:first-child::after {align-self: flex-end;width: 50%;}#sk-container-id-1 div.sk-parallel-item:last-child::after {align-self: flex-start;width: 50%;}#sk-container-id-1 div.sk-parallel-item:only-child::after {width: 0;}#sk-container-id-1 div.sk-dashed-wrapped {border: 1px dashed gray;margin: 0 0.4em 0.5em 0.4em;box-sizing: border-box;padding-bottom: 0.4em;background-color: white;}#sk-container-id-1 div.sk-label label {font-family: monospace;font-weight: bold;display: inline-block;line-height: 1.2em;}#sk-container-id-1 div.sk-label-container {text-align: center;}#sk-container-id-1 div.sk-container {/* jupyter's `normalize.less` sets `[hidden] { display: none; }` but bootstrap.min.css set `[hidden] { display: none !important; }` so we also need the `!important` here to be able to override the default hidden behavior on the sphinx rendered scikit-learn.org. See: https://github.com/scikit-learn/scikit-learn/issues/21755 */display: inline-block !important;position: relative;}#sk-container-id-1 div.sk-text-repr-fallback {display: none;}</style><div id=\"sk-container-id-1\" class=\"sk-top-container\"><div class=\"sk-text-repr-fallback\"><pre>RandomForestClassifier(random_state=42)</pre><b>In a Jupyter environment, please rerun this cell to show the HTML representation or trust the notebook. <br />On GitHub, the HTML representation is unable to render, please try loading this page with nbviewer.org.</b></div><div class=\"sk-container\" hidden><div class=\"sk-item\"><div class=\"sk-estimator sk-toggleable\"><input class=\"sk-toggleable__control sk-hidden--visually\" id=\"sk-estimator-id-1\" type=\"checkbox\" checked><label for=\"sk-estimator-id-1\" class=\"sk-toggleable__label sk-toggleable__label-arrow\">RandomForestClassifier</label><div class=\"sk-toggleable__content\"><pre>RandomForestClassifier(random_state=42)</pre></div></div></div></div></div>"
      ],
      "text/plain": [
       "RandomForestClassifier(random_state=42)"
      ]
     },
     "execution_count": 11,
     "metadata": {},
     "output_type": "execute_result"
    }
   ],
   "source": [
    "# Train the model\n",
    "model = RandomForestClassifier(n_estimators=100, random_state=42)\n",
    "model.fit(X_train, y_train)"
   ]
  },
  {
   "cell_type": "code",
   "execution_count": 12,
   "id": "c5e9c14a",
   "metadata": {
    "execution": {
     "iopub.execute_input": "2025-02-24T05:57:31.800047Z",
     "iopub.status.busy": "2025-02-24T05:57:31.799647Z",
     "iopub.status.idle": "2025-02-24T05:57:31.880390Z",
     "shell.execute_reply": "2025-02-24T05:57:31.879003Z"
    },
    "papermill": {
     "duration": 0.090103,
     "end_time": "2025-02-24T05:57:31.882776",
     "exception": false,
     "start_time": "2025-02-24T05:57:31.792673",
     "status": "completed"
    },
    "tags": []
   },
   "outputs": [
    {
     "name": "stdout",
     "output_type": "stream",
     "text": [
      "                        precision    recall  f1-score   support\n",
      "\n",
      "          10:10:10 NPK       1.00      1.00      1.00        15\n",
      "          10:26:26 NPK       0.69      0.96      0.81        28\n",
      "          12:32:16 NPK       0.90      0.95      0.93        20\n",
      "          13:32:26 NPK       1.00      1.00      1.00        17\n",
      "          19:19:19 NPK       0.82      0.81      0.82       117\n",
      "          20:20:20 NPK       0.30      0.40      0.34        20\n",
      "          50:26:26 NPK       0.90      1.00      0.95        19\n",
      "Chilated Micronutrient       0.82      1.00      0.90        23\n",
      "                   DAP       1.00      0.93      0.97       119\n",
      "      Ferrous Sulphate       1.00      1.00      1.00        14\n",
      "         Hydrated Lime       1.00      1.00      1.00         6\n",
      "                   MOP       1.00      1.00      1.00        92\n",
      "    Magnesium Sulphate       0.79      0.77      0.78        70\n",
      "                   SSP       1.00      0.82      0.90        61\n",
      "                  Urea       0.97      0.96      0.96       268\n",
      "\n",
      "              accuracy                           0.91       889\n",
      "             macro avg       0.88      0.91      0.89       889\n",
      "          weighted avg       0.92      0.91      0.91       889\n",
      "\n"
     ]
    }
   ],
   "source": [
    "# Predictions and evaluation\n",
    "y_pred = model.predict(X_test)\n",
    "print(classification_report(y_test, y_pred))\n"
   ]
  },
  {
   "cell_type": "code",
   "execution_count": 13,
   "id": "c4d7d4e9",
   "metadata": {
    "execution": {
     "iopub.execute_input": "2025-02-24T05:57:31.896918Z",
     "iopub.status.busy": "2025-02-24T05:57:31.896057Z",
     "iopub.status.idle": "2025-02-24T05:57:32.064902Z",
     "shell.execute_reply": "2025-02-24T05:57:32.063527Z"
    },
    "papermill": {
     "duration": 0.178389,
     "end_time": "2025-02-24T05:57:32.067333",
     "exception": false,
     "start_time": "2025-02-24T05:57:31.888944",
     "status": "completed"
    },
    "tags": []
   },
   "outputs": [
    {
     "name": "stdout",
     "output_type": "stream",
     "text": [
      "Training Accuracy: 99.94%\n",
      "Testing Accuracy: 90.66%\n"
     ]
    }
   ],
   "source": [
    "# Calculate training accuracy\n",
    "training_accuracy = model.score(X_train, y_train)\n",
    "print(f\"Training Accuracy: {training_accuracy * 100:.2f}%\")\n",
    "\n",
    "# Calculate testing accuracy\n",
    "testing_accuracy = model.score(X_test, y_test)\n",
    "print(f\"Testing Accuracy: {testing_accuracy * 100:.2f}%\")\n"
   ]
  },
  {
   "cell_type": "code",
   "execution_count": 14,
   "id": "641005e5",
   "metadata": {
    "execution": {
     "iopub.execute_input": "2025-02-24T05:57:32.080476Z",
     "iopub.status.busy": "2025-02-24T05:57:32.080097Z",
     "iopub.status.idle": "2025-02-24T05:57:32.113742Z",
     "shell.execute_reply": "2025-02-24T05:57:32.112633Z"
    },
    "papermill": {
     "duration": 0.042917,
     "end_time": "2025-02-24T05:57:32.116094",
     "exception": false,
     "start_time": "2025-02-24T05:57:32.073177",
     "status": "completed"
    },
    "tags": []
   },
   "outputs": [
    {
     "name": "stdout",
     "output_type": "stream",
     "text": [
      "Predicted Fertilizer: Urea\n"
     ]
    }
   ],
   "source": [
    "import numpy as np\n",
    "\n",
    "# Sample test data (custom input)\n",
    "# Example: [Nitrogen, Phosphorus, Potassium, pH, Rainfall, Temperature, Soil_color, Crop]\n",
    "sample_data = pd.DataFrame({\n",
    "    'Nitrogen': [80],\n",
    "    'Phosphorus': [50],\n",
    "    'Potassium': [40],\n",
    "    'pH': [6.5],\n",
    "    'Rainfall': [100],\n",
    "    'Temperature': [25],\n",
    "    'Soil_color': ['Black'],\n",
    "    'Crop': ['Wheat']\n",
    "})\n",
    "\n",
    "# Apply the same preprocessing to sample_data\n",
    "sample_data_transformed = preprocessor.transform(sample_data)\n",
    "\n",
    "# Convert to DataFrame with correct columns\n",
    "sample_data_prepared = pd.DataFrame(sample_data_transformed, columns=X_train.columns)\n",
    "\n",
    "# Ensure the input data matches the training feature columns\n",
    "sample_data_prepared = sample_data_prepared.reindex(columns=X_train.columns, fill_value=0)\n",
    "\n",
    "# Make a prediction\n",
    "predicted_fertilizer = model.predict(sample_data_prepared)\n",
    "\n",
    "print(f\"Predicted Fertilizer: {predicted_fertilizer[0]}\")\n"
   ]
  },
  {
   "cell_type": "code",
   "execution_count": 15,
   "id": "4ddd9236",
   "metadata": {
    "execution": {
     "iopub.execute_input": "2025-02-24T05:57:32.129270Z",
     "iopub.status.busy": "2025-02-24T05:57:32.128938Z",
     "iopub.status.idle": "2025-02-24T05:57:32.486905Z",
     "shell.execute_reply": "2025-02-24T05:57:32.485482Z"
    },
    "papermill": {
     "duration": 0.368389,
     "end_time": "2025-02-24T05:57:32.490241",
     "exception": false,
     "start_time": "2025-02-24T05:57:32.121852",
     "status": "completed"
    },
    "tags": []
   },
   "outputs": [
    {
     "name": "stdout",
     "output_type": "stream",
     "text": [
      "Model saved successfully using joblib!\n",
      "Preprocessor saved successfully using joblib!\n"
     ]
    }
   ],
   "source": [
    "import joblib\n",
    "\n",
    "# Save the trained model in /kaggle/working/\n",
    "joblib.dump(model, '/kaggle/working/rfFertilizer_model.joblib', compress=3)\n",
    "print(\"Model saved successfully using joblib!\")\n",
    "\n",
    "# Save the preprocessor (instead of undefined 'encoder')\n",
    "joblib.dump(preprocessor, '/kaggle/working/fertilizer_preprocessor.joblib')\n",
    "print(\"Preprocessor saved successfully using joblib!\")\n"
   ]
  },
  {
   "cell_type": "code",
   "execution_count": 16,
   "id": "b06abf46",
   "metadata": {
    "execution": {
     "iopub.execute_input": "2025-02-24T05:57:32.504880Z",
     "iopub.status.busy": "2025-02-24T05:57:32.504490Z",
     "iopub.status.idle": "2025-02-24T05:57:36.755370Z",
     "shell.execute_reply": "2025-02-24T05:57:36.753855Z"
    },
    "papermill": {
     "duration": 4.260645,
     "end_time": "2025-02-24T05:57:36.758102",
     "exception": false,
     "start_time": "2025-02-24T05:57:32.497457",
     "status": "completed"
    },
    "tags": []
   },
   "outputs": [],
   "source": [
    "!pip freeze > fertilizer_requirements.txt"
   ]
  }
 ],
 "metadata": {
  "kaggle": {
   "accelerator": "none",
   "dataSources": [
    {
     "datasetId": 6539310,
     "sourceId": 10567815,
     "sourceType": "datasetVersion"
    },
    {
     "datasetId": 6681597,
     "sourceId": 10770517,
     "sourceType": "datasetVersion"
    },
    {
     "datasetId": 6682601,
     "sourceId": 10771823,
     "sourceType": "datasetVersion"
    }
   ],
   "dockerImageVersionId": 30513,
   "isGpuEnabled": false,
   "isInternetEnabled": true,
   "language": "python",
   "sourceType": "notebook"
  },
  "kernelspec": {
   "display_name": "Python 3",
   "language": "python",
   "name": "python3"
  },
  "language_info": {
   "codemirror_mode": {
    "name": "ipython",
    "version": 3
   },
   "file_extension": ".py",
   "mimetype": "text/x-python",
   "name": "python",
   "nbconvert_exporter": "python",
   "pygments_lexer": "ipython3",
   "version": "3.10.10"
  },
  "papermill": {
   "default_parameters": {},
   "duration": 22.077144,
   "end_time": "2025-02-24T05:57:37.888005",
   "environment_variables": {},
   "exception": null,
   "input_path": "__notebook__.ipynb",
   "output_path": "__notebook__.ipynb",
   "parameters": {},
   "start_time": "2025-02-24T05:57:15.810861",
   "version": "2.4.0"
  }
 },
 "nbformat": 4,
 "nbformat_minor": 5
}
